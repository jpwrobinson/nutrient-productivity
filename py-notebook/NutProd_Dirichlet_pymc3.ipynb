{
 "cells": [
  {
   "cell_type": "markdown",
   "metadata": {},
   "source": [
    "# Dirichlet model fitting to nutrient productivity\n",
    "Based on http://dirichletreg.r-forge.r-project.org/\n"
   ]
  },
  {
   "cell_type": "code",
   "execution_count": 1231,
   "metadata": {},
   "outputs": [],
   "source": [
    "# Import python packages\n",
    "%matplotlib inline\n",
    "import pandas as pd\n",
    "import numpy as np\n",
    "import matplotlib.pyplot as plt\n",
    "import pymc3 as pm\n",
    "import theano as T\n",
    "import ternary\n",
    "import theano.tensor as tt\n",
    "import seaborn as sns\n",
    "import scipy as sp\n",
    "import pdb\n",
    "import os\n",
    "import arviz as az\n",
    "from matplotlib.patches import Ellipse, transforms\n",
    "from itertools import combinations\n",
    "#import ternary\n",
    "\n",
    "# Helper functions\n",
    "def indexall(L):\n",
    "    poo = []\n",
    "    for p in L:\n",
    "        if not p in poo:\n",
    "            poo.append(p)\n",
    "    Ix = np.array([poo.index(p) for p in L])\n",
    "    return poo,Ix\n",
    "\n",
    "# Helper functions\n",
    "def indexall_B(L,B):\n",
    "    poo = []\n",
    "    for p in L:\n",
    "        if not p in poo:\n",
    "            poo.append(p)\n",
    "    Ix = np.array([poo.index(p) for p in L])\n",
    "    a, b = poo.index(B), 0\n",
    "    poo[b], poo[a] = poo[a], poo[b]\n",
    "    \n",
    "    Ix[Ix==b] = -1\n",
    "    Ix[Ix==a] = 0\n",
    "    Ix[Ix==-1] = a\n",
    "    return poo,Ix\n",
    "\n",
    "def subindexall(short,long):\n",
    "    poo = []\n",
    "    out = []\n",
    "    for s,l in zip(short,long):\n",
    "        if not l in poo:\n",
    "            poo.append(l)\n",
    "            out.append(s)\n",
    "    return indexall(out)\n",
    "\n",
    "match = lambda a, b: np.array([ b.index(x) if x in b else None for x in a ])\n",
    "grep = lambda s, l: np.array([i for i in l if s in i])\n",
    "\n",
    "# Function to standardize covariates\n",
    "def stdize(x):\n",
    "    return (x-np.mean(x))/(2*np.std(x))\n",
    "\n",
    "# Coefficient of variation\n",
    "cv =  lambda x: np.var(x) / np.mean(x)\n",
    "\n",
    "# Posterior draws for each covariate, save as csv\n",
    "def extract_con(alpha, varname):\n",
    "\n",
    "    # covariate trace\n",
    "    alphas = trace_dm[alpha].T\n",
    "\n",
    "    # get posterior mean\n",
    "    alpha_0 = alphas.sum(0).mean(1)\n",
    "    Ex_alphas = alphas.mean(2)\n",
    "    Ex = pd.DataFrame(Ex_alphas/alpha_0).T\n",
    "    Ex.to_csv('zinc_posterior_'+varname+'.csv', index=False)\n",
    "\n",
    "    # get HPDI\n",
    "    Ex_hpd = np.array([az.hdi(a) for a in alphas.transpose(0,2,1)])\n",
    "    Ex_hpd_lo = pd.DataFrame([a[:,0]/alpha_0 for a in Ex_hpd]).T\n",
    "    Ex_hpd_hi = pd.DataFrame([a[:,1]/alpha_0 for a in Ex_hpd]).T\n",
    "    Ex_hpd_lo.to_csv('zinc_posterior_'+varname+'_hpd_lo.csv', index=False)\n",
    "    Ex_hpd_hi.to_csv('zinc_posterior_'+varname+'_hpd_hi.csv', index=False)"
   ]
  },
  {
   "cell_type": "markdown",
   "metadata": {},
   "source": [
    "Dataset are proportion of nutrient productivity by fish functional groups, for zinc.mg"
   ]
  },
  {
   "cell_type": "code",
   "execution_count": 1180,
   "metadata": {},
   "outputs": [
    {
     "data": {
      "text/plain": [
       "0               Belize\n",
       "1               Belize\n",
       "2               Belize\n",
       "3               Belize\n",
       "4               Belize\n",
       "            ...       \n",
       "370    Solomon Islands\n",
       "371    Solomon Islands\n",
       "372    Solomon Islands\n",
       "373    Solomon Islands\n",
       "374    Solomon Islands\n",
       "Name: country, Length: 375, dtype: object"
      ]
     },
     "execution_count": 1180,
     "metadata": {},
     "output_type": "execute_result"
    }
   ],
   "source": [
    "# Import data\n",
    "nut = pd.read_csv(\"zinc.mg_unscaled.csv\")\n",
    "nut.head()\n",
    "# hnames"
   ]
  },
  {
   "cell_type": "code",
   "execution_count": 1271,
   "metadata": {},
   "outputs": [],
   "source": [
    "# Import data\n",
    "nut = pd.read_csv(\"zinc.mg_unscaled.csv\")\n",
    "nut.head()\n",
    "nut.management_rules = nut.management_rules + nut.country\n",
    "\n",
    "y = nut[[\"browser\",\"cropper/grazer\",\"invertivore-mobile\",\"scraper-excavator\",\"piscivore\",\"planktivore\", \"mixed-diet feeder\"]]\n",
    "# Grab fg names\n",
    "hnames = list(y[:-1])\n",
    "y = y.to_numpy()\n",
    "y = y.round(2)+0.000001\n",
    "# Make y's sum to 1\n",
    "y = y/y.sum(axis=1,keepdims=1)\n",
    "nfg = y.shape[1]\n",
    "\n",
    "# export fitted df\n",
    "y2=pd.DataFrame(y)\n",
    "y2.to_csv('zinc_focal.csv', index=False)\n",
    "\n",
    "# # identify predictors\n",
    "hc = stdize(nut.hard_coral).to_numpy()\n",
    "ma = stdize(nut.macroalgae).to_numpy()\n",
    "bs = stdize(nut.bare_substrate).to_numpy()\n",
    "ta = stdize(nut.turf_algae).to_numpy()\n",
    "rub = stdize(nut.rubble).to_numpy()\n",
    "pop = stdize(nut.pop_count).to_numpy()\n",
    "rt = pd.Categorical(nut.reef_type)\n",
    "grav_nc = stdize(nut.grav_nc).to_numpy()\n",
    "nl = stdize(nut.nutrient_load).to_numpy()\n",
    "sed = stdize(nut.sediment).to_numpy()\n",
    "dep = stdize(nut.depth).to_numpy()\n",
    "\n",
    "## categorical levels\n",
    "reef_type = list(np.sort(pd.unique(nut[\"reef_type\"])))\n",
    "rt = np.array([reef_type.index(x) for x in nut[\"reef_type\"]])\n",
    "\n",
    "reef_zone = list(np.sort(pd.unique(nut[\"reef_zone\"])))\n",
    "rz = np.array([reef_zone.index(x) for x in nut[\"reef_zone\"]])\n",
    "\n",
    "manage = list(np.sort(pd.unique(nut[\"management_rules\"])))\n",
    "mr = np.array([manage.index(x) for x in nut[\"management_rules\"]])\n",
    "\n",
    "# if manage nested in country, use subindexall\n",
    "country,c = subindexall(nut[\"country\"], nut[\"management_rules\"])\n",
    "# else\n",
    "# country = list(np.sort(pd.unique(nut[\"country\"])))\n",
    "# c = np.array([country.index(x) for x in nut[\"country\"]])\n",
    "\n",
    "# site is almost n = 1 for all, so would not converge sensibly"
   ]
  },
  {
   "cell_type": "markdown",
   "metadata": {},
   "source": [
    "Now build the model"
   ]
  },
  {
   "cell_type": "code",
   "execution_count": 1272,
   "metadata": {},
   "outputs": [],
   "source": [
    "coords={'reef_type':reef_type, 'country':country,'site':site,'nfg':nfg}\n",
    "\n",
    "with pm.Model(coords=coords) as BDM:\n",
    "    intercept = pm.Normal('intercept', 0, 2, shape=nfg)\n",
    "    \n",
    "    # conts\n",
    "    hard_coral = pm.Normal('hard_coral', 0, 0.5, shape=nfg)\n",
    "    macroalgae = pm.Normal('macroalgae', 0, 0.5, shape=nfg)\n",
    "    bare_sub = pm.Normal('bare_sub', 0, 0.5, shape=nfg)\n",
    "    turf = pm.Normal('turf', 0, 0.5, shape=nfg)\n",
    "    rubble = pm.Normal('rubble', 0, 0.5, shape=nfg)\n",
    "    population = pm.Normal('population', 0, 0.5, shape=nfg)\n",
    "    gravity = pm.Normal('gravity', 0, 0.5, shape=nfg)\n",
    "    sediment = pm.Normal('sediment', 0, 0.5, shape=nfg)\n",
    "    nut_load = pm.Normal('nut_load', 0, 0.5, shape=nfg)\n",
    "    depth = pm.Normal('depth', 0, 0.5, shape=nfg)\n",
    "    \n",
    "    # cats\n",
    "    reeftype_x = pm.Normal(\"reeftype_x\", 0, 1, shape = (len(reef_type), nfg))\n",
    "    reefzone_x = pm.Normal(\"reefzone_x\", 0, 1, shape = (len(reef_zone), nfg))\n",
    "#     manage_x = pm.Normal(\"manage_x\", 0, 1, shape = (len(manage), nfg))\n",
    "    \n",
    "    # country nested in global intercept\n",
    "    σ_c = pm.Exponential('Sigma_country', 1)\n",
    "    β0_cnc = pm.Normal('β0_cnc', 0, 1, shape = (len(country), nfg))\n",
    "    β0_c = pm.Normal('β0_c', intercept+β0_cnc*σ_c, shape = (len(country), nfg))\n",
    "    \n",
    "    # Site\n",
    "#     σ_s = pm.Exponential('Sigma_site', 1)\n",
    "#     β0_snc = pm.Normal('β0_snc', 0, 1, shape = (len(site), nfg))\n",
    "#     β0_s = pm.Normal('β0_s', β0_c[c]+β0_snc*σ_c, shape = (len(site), nfg)) \n",
    "\n",
    "    # Management nested in country \n",
    "    σ_m = pm.Exponential('Sigma_manage', 1)\n",
    "    β0_managenc = pm.Normal('β0_managenc', 0, 1, shape = (len(manage), nfg))\n",
    "    β0_manage = pm.Normal('β0_manage', β0_c[c]+β0_managenc*σ_m, shape = (len(manage), nfg)) \n",
    "\n",
    "    α = pm.Deterministic('alpha', tt.exp(#intercept +\n",
    "                                         β0_manage[mr, :None] +\n",
    "#                                          β0_c[c, :None] +\n",
    "                                         reeftype_x[rt,:None] + reefzone_x[rz, :None] +\n",
    "#                                          manage_x[mr,:None] +\n",
    "                                         hard_coral*hc[:,None]+macroalgae*ma[:,None]+\n",
    "                                         bare_sub*bs[:,None]+turf*ta[:,None]+rubble*rub[:,None]+\n",
    "                                         gravity*grav_nc[:,None] + population*pop[:,None]+\n",
    "                                         sediment*sed[:,None] + nut_load*nl[:,None] +\n",
    "                                         depth*dep[:,None]))\n",
    "    Yi = pm.Dirichlet('Yi', α, observed=y)\n",
    "    \n",
    "    # Covariate predictions\n",
    "    gravG = np.linspace(min(grav_nc),max(grav_nc), num=100)\n",
    "    α2 = pm.Deterministic('alpha2', tt.exp(intercept.mean(0)+gravity*gravG[:,None]))\n",
    "    \n",
    "    coralG = np.linspace(min(hc),max(hc), num=100)\n",
    "    α3 = pm.Deterministic('alpha3', tt.exp(intercept.mean(0)+hard_coral*coralG[:,None]))\n",
    "    \n",
    "    macroG = np.linspace(min(ma),max(ma), num=100)\n",
    "    α4 = pm.Deterministic('alpha4', tt.exp(intercept.mean(0)+macroalgae*macroG[:,None]))\n",
    "    \n",
    "    bareG = np.linspace(min(bs),max(bs), num=100)\n",
    "    α5 = pm.Deterministic('alpha5', tt.exp(intercept.mean(0)+bare_sub*bareG[:,None]))\n",
    "    \n",
    "    turfG = np.linspace(min(ta),max(ta), num=100)\n",
    "    α6 = pm.Deterministic('alpha6', tt.exp(intercept.mean(0)+turf*turfG[:,None]))\n",
    "    \n",
    "    # manage is nested in country + intercept, so only need B0_manage covariate sample\n",
    "    manageG = np.linspace(0, 10, num = 11).astype(int)\n",
    "    α7 = pm.Deterministic('alpha7', tt.exp(β0_manage[manageG,:None]))\n",
    "    \n",
    "    popG = np.linspace(min(pop),max(pop), num=100)\n",
    "    α8 = pm.Deterministic('alpha8', tt.exp(intercept.mean(0)+population*popG[:,None]))\n",
    "    \n",
    "    sedG = np.linspace(min(sed),max(sed), num=100)\n",
    "    α9 = pm.Deterministic('alpha9', tt.exp(intercept.mean(0)+sediment*sedG[:,None]))\n",
    "    \n",
    "    nlG = np.linspace(min(nl),max(nl), num=100)\n",
    "    α10 = pm.Deterministic('alpha10', tt.exp(intercept.mean(0)+nut_load*nlG[:,None]))\n",
    "    \n",
    "    rubG = np.linspace(min(rub),max(rub), num=100)\n",
    "    α11 = pm.Deterministic('alpha11', tt.exp(intercept.mean(0)+rubble*rubG[:,None]))\n",
    "    \n",
    "    # vectors of management type for each hard_coral gradient\n",
    "    futureHC = np.repeat(coralG, 11)\n",
    "    futureG = np.tile(manageG, 100)\n",
    "    α12 = pm.Deterministic('alpha12', tt.exp(β0_manage[futureG,:None] + hard_coral*futureHC[:,None]))"
   ]
  },
  {
   "cell_type": "markdown",
   "metadata": {},
   "source": [
    "Note the `[:,None]` in the code is to broadcast the predictor measurements across all fish functional groups."
   ]
  },
  {
   "cell_type": "code",
   "execution_count": 1273,
   "metadata": {},
   "outputs": [
    {
     "name": "stdout",
     "output_type": "stream",
     "text": [
      "intercept -11.284599996352325\n",
      "hard_coral -1.580539468513092\n",
      "macroalgae -1.580539468513092\n",
      "bare_sub -1.580539468513092\n",
      "turf -1.580539468513092\n",
      "rubble -1.580539468513092\n",
      "population -1.580539468513092\n",
      "gravity -1.580539468513092\n",
      "sediment -1.580539468513092\n",
      "nut_load -1.580539468513092\n",
      "depth -1.580539468513092\n",
      "reeftype_x -32.16284866216356\n",
      "reefzone_x -19.297709197298126\n",
      "Sigma_country_log__ -1.0596601002984287\n",
      "β0_cnc -25.730278929730844\n",
      "β0_c -25.730278929730844\n",
      "Sigma_manage_log__ -1.0596601002984287\n",
      "β0_managenc -70.75826705675982\n",
      "β0_manage -70.75826705675982\n",
      "Yi 2467.2192045038014\n"
     ]
    }
   ],
   "source": [
    "for RV in BDM.basic_RVs:\n",
    "    print(RV.name, RV.logp(BDM.test_point))"
   ]
  },
  {
   "cell_type": "code",
   "execution_count": 1274,
   "metadata": {
    "scrolled": false
   },
   "outputs": [
    {
     "name": "stderr",
     "output_type": "stream",
     "text": [
      "/opt/anaconda3/lib/python3.7/site-packages/deprecat/classic.py:215: FutureWarning: In v4.0, pm.sample will return an `arviz.InferenceData` object instead of a `MultiTrace` by default. You can pass return_inferencedata=True or return_inferencedata=False to be safe and silence this warning.\n",
      "  return wrapped_(*args_, **kwargs_)\n",
      "Auto-assigning NUTS sampler...\n",
      "Initializing NUTS using jitter+adapt_diag...\n",
      "Multiprocess sampling (4 chains in 4 jobs)\n",
      "NUTS: [β0_manage, β0_managenc, Sigma_manage, β0_c, β0_cnc, Sigma_country, reefzone_x, reeftype_x, depth, nut_load, sediment, gravity, population, rubble, turf, bare_sub, macroalgae, hard_coral, intercept]\n"
     ]
    },
    {
     "data": {
      "text/html": [
       "\n",
       "<style>\n",
       "    /* Turns off some styling */\n",
       "    progress {\n",
       "        /* gets rid of default border in Firefox and Opera. */\n",
       "        border: none;\n",
       "        /* Needs to be in here for Safari polyfill so background images work as expected. */\n",
       "        background-size: auto;\n",
       "    }\n",
       "    .progress-bar-interrupted, .progress-bar-interrupted::-webkit-progress-bar {\n",
       "        background: #F44336;\n",
       "    }\n",
       "</style>\n"
      ],
      "text/plain": [
       "<IPython.core.display.HTML object>"
      ]
     },
     "metadata": {},
     "output_type": "display_data"
    },
    {
     "data": {
      "text/html": [
       "\n",
       "    <div>\n",
       "      <progress value='8000' class='' max='8000' style='width:300px; height:20px; vertical-align: middle;'></progress>\n",
       "      100.00% [8000/8000 02:52<00:00 Sampling 4 chains, 0 divergences]\n",
       "    </div>\n",
       "    "
      ],
      "text/plain": [
       "<IPython.core.display.HTML object>"
      ]
     },
     "metadata": {},
     "output_type": "display_data"
    },
    {
     "name": "stderr",
     "output_type": "stream",
     "text": [
      "Sampling 4 chains for 1_000 tune and 1_000 draw iterations (4_000 + 4_000 draws total) took 194 seconds.\n",
      "The number of effective samples is smaller than 10% for some parameters.\n"
     ]
    }
   ],
   "source": [
    "with BDM:\n",
    "    trace_dm = pm.sample()"
   ]
  },
  {
   "cell_type": "code",
   "execution_count": 1255,
   "metadata": {},
   "outputs": [
    {
     "name": "stderr",
     "output_type": "stream",
     "text": [
      "Got error No model on context stack. trying to find log_likelihood in translation.\n",
      "/opt/anaconda3/lib/python3.7/site-packages/arviz/data/io_pymc3_3x.py:102: FutureWarning: Using `from_pymc3` without the model will be deprecated in a future release. Not using the model will return less accurate and less useful results. Make sure you use the model argument or call from_pymc3 within a model context.\n",
      "  FutureWarning,\n"
     ]
    },
    {
     "data": {
      "text/html": [
       "<div>\n",
       "<style scoped>\n",
       "    .dataframe tbody tr th:only-of-type {\n",
       "        vertical-align: middle;\n",
       "    }\n",
       "\n",
       "    .dataframe tbody tr th {\n",
       "        vertical-align: top;\n",
       "    }\n",
       "\n",
       "    .dataframe thead th {\n",
       "        text-align: right;\n",
       "    }\n",
       "</style>\n",
       "<table border=\"1\" class=\"dataframe\">\n",
       "  <thead>\n",
       "    <tr style=\"text-align: right;\">\n",
       "      <th></th>\n",
       "      <th>mean</th>\n",
       "      <th>sd</th>\n",
       "      <th>hdi_3%</th>\n",
       "      <th>hdi_97%</th>\n",
       "      <th>mcse_mean</th>\n",
       "      <th>mcse_sd</th>\n",
       "      <th>ess_bulk</th>\n",
       "      <th>ess_tail</th>\n",
       "      <th>r_hat</th>\n",
       "    </tr>\n",
       "  </thead>\n",
       "  <tbody>\n",
       "    <tr>\n",
       "      <th>intercept[0]</th>\n",
       "      <td>-1.248</td>\n",
       "      <td>0.858</td>\n",
       "      <td>-2.839</td>\n",
       "      <td>0.415</td>\n",
       "      <td>0.038</td>\n",
       "      <td>0.027</td>\n",
       "      <td>501.0</td>\n",
       "      <td>1127.0</td>\n",
       "      <td>1.01</td>\n",
       "    </tr>\n",
       "    <tr>\n",
       "      <th>intercept[1]</th>\n",
       "      <td>-0.172</td>\n",
       "      <td>0.850</td>\n",
       "      <td>-1.792</td>\n",
       "      <td>1.372</td>\n",
       "      <td>0.044</td>\n",
       "      <td>0.031</td>\n",
       "      <td>382.0</td>\n",
       "      <td>1193.0</td>\n",
       "      <td>1.00</td>\n",
       "    </tr>\n",
       "    <tr>\n",
       "      <th>intercept[2]</th>\n",
       "      <td>0.079</td>\n",
       "      <td>0.850</td>\n",
       "      <td>-1.434</td>\n",
       "      <td>1.770</td>\n",
       "      <td>0.039</td>\n",
       "      <td>0.028</td>\n",
       "      <td>467.0</td>\n",
       "      <td>1309.0</td>\n",
       "      <td>1.01</td>\n",
       "    </tr>\n",
       "    <tr>\n",
       "      <th>intercept[3]</th>\n",
       "      <td>0.314</td>\n",
       "      <td>0.885</td>\n",
       "      <td>-1.392</td>\n",
       "      <td>1.969</td>\n",
       "      <td>0.043</td>\n",
       "      <td>0.030</td>\n",
       "      <td>431.0</td>\n",
       "      <td>891.0</td>\n",
       "      <td>1.01</td>\n",
       "    </tr>\n",
       "    <tr>\n",
       "      <th>intercept[4]</th>\n",
       "      <td>-1.749</td>\n",
       "      <td>0.878</td>\n",
       "      <td>-3.509</td>\n",
       "      <td>-0.145</td>\n",
       "      <td>0.042</td>\n",
       "      <td>0.030</td>\n",
       "      <td>429.0</td>\n",
       "      <td>894.0</td>\n",
       "      <td>1.01</td>\n",
       "    </tr>\n",
       "    <tr>\n",
       "      <th>...</th>\n",
       "      <td>...</td>\n",
       "      <td>...</td>\n",
       "      <td>...</td>\n",
       "      <td>...</td>\n",
       "      <td>...</td>\n",
       "      <td>...</td>\n",
       "      <td>...</td>\n",
       "      <td>...</td>\n",
       "      <td>...</td>\n",
       "    </tr>\n",
       "    <tr>\n",
       "      <th>β0_manage[10, 4]</th>\n",
       "      <td>-2.051</td>\n",
       "      <td>0.898</td>\n",
       "      <td>-3.775</td>\n",
       "      <td>-0.403</td>\n",
       "      <td>0.045</td>\n",
       "      <td>0.032</td>\n",
       "      <td>391.0</td>\n",
       "      <td>839.0</td>\n",
       "      <td>1.01</td>\n",
       "    </tr>\n",
       "    <tr>\n",
       "      <th>β0_manage[10, 5]</th>\n",
       "      <td>0.023</td>\n",
       "      <td>0.834</td>\n",
       "      <td>-1.444</td>\n",
       "      <td>1.688</td>\n",
       "      <td>0.036</td>\n",
       "      <td>0.025</td>\n",
       "      <td>543.0</td>\n",
       "      <td>1017.0</td>\n",
       "      <td>1.01</td>\n",
       "    </tr>\n",
       "    <tr>\n",
       "      <th>β0_manage[10, 6]</th>\n",
       "      <td>-0.184</td>\n",
       "      <td>0.903</td>\n",
       "      <td>-1.873</td>\n",
       "      <td>1.466</td>\n",
       "      <td>0.045</td>\n",
       "      <td>0.032</td>\n",
       "      <td>399.0</td>\n",
       "      <td>1211.0</td>\n",
       "      <td>1.01</td>\n",
       "    </tr>\n",
       "    <tr>\n",
       "      <th>Sigma_country</th>\n",
       "      <td>0.222</td>\n",
       "      <td>0.176</td>\n",
       "      <td>0.000</td>\n",
       "      <td>0.547</td>\n",
       "      <td>0.003</td>\n",
       "      <td>0.002</td>\n",
       "      <td>2850.0</td>\n",
       "      <td>2280.0</td>\n",
       "      <td>1.00</td>\n",
       "    </tr>\n",
       "    <tr>\n",
       "      <th>Sigma_manage</th>\n",
       "      <td>0.149</td>\n",
       "      <td>0.115</td>\n",
       "      <td>0.000</td>\n",
       "      <td>0.348</td>\n",
       "      <td>0.002</td>\n",
       "      <td>0.002</td>\n",
       "      <td>2315.0</td>\n",
       "      <td>1738.0</td>\n",
       "      <td>1.00</td>\n",
       "    </tr>\n",
       "  </tbody>\n",
       "</table>\n",
       "<p>338 rows × 9 columns</p>\n",
       "</div>"
      ],
      "text/plain": [
       "                   mean     sd  hdi_3%  hdi_97%  mcse_mean  mcse_sd  ess_bulk  \\\n",
       "intercept[0]     -1.248  0.858  -2.839    0.415      0.038    0.027     501.0   \n",
       "intercept[1]     -0.172  0.850  -1.792    1.372      0.044    0.031     382.0   \n",
       "intercept[2]      0.079  0.850  -1.434    1.770      0.039    0.028     467.0   \n",
       "intercept[3]      0.314  0.885  -1.392    1.969      0.043    0.030     431.0   \n",
       "intercept[4]     -1.749  0.878  -3.509   -0.145      0.042    0.030     429.0   \n",
       "...                 ...    ...     ...      ...        ...      ...       ...   \n",
       "β0_manage[10, 4] -2.051  0.898  -3.775   -0.403      0.045    0.032     391.0   \n",
       "β0_manage[10, 5]  0.023  0.834  -1.444    1.688      0.036    0.025     543.0   \n",
       "β0_manage[10, 6] -0.184  0.903  -1.873    1.466      0.045    0.032     399.0   \n",
       "Sigma_country     0.222  0.176   0.000    0.547      0.003    0.002    2850.0   \n",
       "Sigma_manage      0.149  0.115   0.000    0.348      0.002    0.002    2315.0   \n",
       "\n",
       "                  ess_tail  r_hat  \n",
       "intercept[0]        1127.0   1.01  \n",
       "intercept[1]        1193.0   1.00  \n",
       "intercept[2]        1309.0   1.01  \n",
       "intercept[3]         891.0   1.01  \n",
       "intercept[4]         894.0   1.01  \n",
       "...                    ...    ...  \n",
       "β0_manage[10, 4]     839.0   1.01  \n",
       "β0_manage[10, 5]    1017.0   1.01  \n",
       "β0_manage[10, 6]    1211.0   1.01  \n",
       "Sigma_country       2280.0   1.00  \n",
       "Sigma_manage        1738.0   1.00  \n",
       "\n",
       "[338 rows x 9 columns]"
      ]
     },
     "execution_count": 1255,
     "metadata": {},
     "output_type": "execute_result"
    }
   ],
   "source": [
    "pm.summary(trace_dm, var_names=['~^alpha'], filter_vars=\"regex\")"
   ]
  },
  {
   "cell_type": "code",
   "execution_count": 1275,
   "metadata": {},
   "outputs": [
    {
     "name": "stderr",
     "output_type": "stream",
     "text": [
      "Got error No model on context stack. trying to find log_likelihood in translation.\n",
      "/opt/anaconda3/lib/python3.7/site-packages/arviz/data/io_pymc3_3x.py:102: FutureWarning: Using `from_pymc3` without the model will be deprecated in a future release. Not using the model will return less accurate and less useful results. Make sure you use the model argument or call from_pymc3 within a model context.\n",
      "  FutureWarning,\n"
     ]
    }
   ],
   "source": [
    "# Export summary stats\n",
    "tmp = pm.summary(trace_dm, var_names=['~^Sigma', '~^alpha'], hdi_prob=0.95, filter_vars=\"regex\")\n",
    "varnames = np.array(list(tmp.index), dtype=object)\n",
    "varnames[match(grep('β0_c',list(varnames)),list(varnames))] = np.array(list(np.repeat(country, nfg))*2)\n",
    "varnames[match(grep('β0_manage',list(varnames)),list(varnames))] = np.array(list(np.repeat(manage, nfg))*2)\n",
    "varnames[match(grep('reeftype_x',list(varnames)),list(varnames))] = np.repeat(reef_type, nfg)\n",
    "varnames[match(grep('reefzone_x',list(varnames)),list(varnames))] = np.repeat(reef_zone, nfg)\n",
    "# varnames[match(grep('manage_x',list(varname§s)),list(varnames))] = np.repeat(manage, nfg)\n",
    "\n",
    "tmp['varname'] = list(varnames)\n",
    "tmp['fg']=int(len(tmp)/nfg)*hnames\n",
    "\n",
    "tmp.to_csv('zinc_posterior_summary.csv')"
   ]
  },
  {
   "cell_type": "code",
   "execution_count": 1276,
   "metadata": {},
   "outputs": [
    {
     "data": {
      "image/png": "[encoded data removed]",
      "text/plain": [
       "<Figure size 432x288 with 1 Axes>"
      ]
     },
     "metadata": {
      "needs_background": "light"
     },
     "output_type": "display_data"
    }
   ],
   "source": [
    "# Grab expected alphas\n",
    "alpha = trace_dm['alpha'].T\n",
    "alpha_0 = alpha.sum(0).mean(1)\n",
    "Ex_alphas = alpha.mean(2)\n",
    "Ex = Ex_alphas/alpha_0\n",
    "\n",
    "## Predicted vs. observed\n",
    "[plt.scatter(ei,yi,label=l) for yi,l,ei in zip(y.T,hnames,Ex)]\n",
    "plt.ylabel('Observed'),plt.xlabel('Predicted')\n",
    "plt.legend(loc=(1.04,0));"
   ]
  },
  {
   "cell_type": "code",
   "execution_count": 1091,
   "metadata": {},
   "outputs": [],
   "source": [
    "# extract posterior dists for covariates\n",
    "out = pm.trace_to_dataframe(trace_dm)\n",
    "varnames = np.array(list(out), dtype=object)\n",
    "varnames[match(grep('β0_c',list(varnames)),list(varnames))] = np.array(list(np.repeat(country, nfg))*2)\n",
    "varnames[match(grep('reeftype_x',list(varnames)),list(varnames))] = np.repeat(reef_type, nfg)\n",
    "varnames[match(grep('reefzone_x',list(varnames)),list(varnames))] = np.repeat(reef_zone, nfg)\n",
    "# varnames[match(grep('manage_x',list(varnames)),list(varnames))] = np.repeat(manage, nfg)\n",
    "varnames[match(grep('β0_manage',list(varnames)),list(varnames))] = np.array(list(np.repeat(manage, nfg))*2)\n",
    "\n",
    "out.columns=varnames\n",
    "out.to_csv('zinc_posterior_trace.csv', index=False)"
   ]
  },
  {
   "cell_type": "code",
   "execution_count": 1259,
   "metadata": {},
   "outputs": [
    {
     "data": {
      "text/html": [
       "\n",
       "<style>\n",
       "    /* Turns off some styling */\n",
       "    progress {\n",
       "        /* gets rid of default border in Firefox and Opera. */\n",
       "        border: none;\n",
       "        /* Needs to be in here for Safari polyfill so background images work as expected. */\n",
       "        background-size: auto;\n",
       "    }\n",
       "    .progress-bar-interrupted, .progress-bar-interrupted::-webkit-progress-bar {\n",
       "        background: #F44336;\n",
       "    }\n",
       "</style>\n"
      ],
      "text/plain": [
       "<IPython.core.display.HTML object>"
      ]
     },
     "metadata": {},
     "output_type": "display_data"
    },
    {
     "data": {
      "text/html": [
       "\n",
       "    <div>\n",
       "      <progress value='4000' class='' max='4000' style='width:300px; height:20px; vertical-align: middle;'></progress>\n",
       "      100.00% [4000/4000 00:06<00:00]\n",
       "    </div>\n",
       "    "
      ],
      "text/plain": [
       "<IPython.core.display.HTML object>"
      ]
     },
     "metadata": {},
     "output_type": "display_data"
    },
    {
     "data": {
      "image/png": "[encoded data removed]",
      "text/plain": [
       "<Figure size 432x288 with 1 Axes>"
      ]
     },
     "metadata": {
      "needs_background": "light"
     },
     "output_type": "display_data"
    }
   ],
   "source": [
    "## posterior predictive distribution\n",
    "with BDM:\n",
    "    ppc = pm.sample_posterior_predictive(\n",
    "        trace_dm, random_seed=43\n",
    "    )\n",
    "\n",
    "with BDM:\n",
    "    az.plot_ppc(az.from_pymc3(posterior_predictive=ppc))"
   ]
  },
  {
   "cell_type": "code",
   "execution_count": 1260,
   "metadata": {},
   "outputs": [
    {
     "name": "stderr",
     "output_type": "stream",
     "text": [
      "/opt/anaconda3/lib/python3.7/site-packages/ipykernel_launcher.py:75: FutureWarning: hdi currently interprets 2d data as (draw, shape) but this will change in a future release to (chain, draw) for coherence with other functions\n"
     ]
    }
   ],
   "source": [
    "## extract posterior predicted \n",
    "extract_con(alpha='alpha2', varname = 'gravity')\n",
    "extract_con(alpha='alpha3', varname = 'hard_coral')\n",
    "extract_con(alpha='alpha4', varname = 'macroalgae')\n",
    "extract_con(alpha='alpha5', varname = 'bare_substrate')\n",
    "extract_con(alpha='alpha6', varname = 'turf')\n",
    "extract_con(alpha='alpha7', varname = 'manage')\n",
    "extract_con(alpha='alpha8', varname = 'pop')\n",
    "extract_con(alpha='alpha9', varname = 'sediment')\n",
    "extract_con(alpha='alpha10', varname = 'nut_load')\n",
    "extract_con(alpha='alpha11', varname = 'rubble')\n",
    "extract_con(alpha='alpha12', varname = 'future_hc')"
   ]
  },
  {
   "cell_type": "code",
   "execution_count": 1270,
   "metadata": {},
   "outputs": [
    {
     "data": {
      "text/plain": [
       "mean"
      ]
     },
     "execution_count": 1270,
     "metadata": {},
     "output_type": "execute_result"
    }
   ],
   "source": []
  },
  {
   "cell_type": "code",
   "execution_count": 1266,
   "metadata": {},
   "outputs": [
    {
     "data": {
      "text/plain": [
       "array([-0.86969385, -0.86969385, -0.86969385, -0.86969385, -0.86969385,\n",
       "       -0.86969385, -0.86969385, -0.86969385, -0.86969385, -0.86969385,\n",
       "       -0.84467754, -0.84467754, -0.84467754, -0.84467754, -0.84467754,\n",
       "       -0.84467754, -0.84467754, -0.84467754, -0.84467754, -0.84467754,\n",
       "       -0.84467754, -0.81966123, -0.81966123, -0.81966123, -0.81966123,\n",
       "       -0.81966123, -0.81966123, -0.81966123, -0.81966123, -0.81966123,\n",
       "       -0.81966123, -0.81966123, -0.79464492, -0.79464492, -0.79464492,\n",
       "       -0.79464492, -0.79464492, -0.79464492, -0.79464492, -0.79464492,\n",
       "       -0.79464492, -0.79464492, -0.79464492, -0.76962861, -0.76962861,\n",
       "       -0.76962861, -0.76962861, -0.76962861, -0.76962861, -0.76962861,\n",
       "       -0.76962861, -0.76962861, -0.76962861, -0.76962861, -0.7446123 ,\n",
       "       -0.7446123 , -0.7446123 , -0.7446123 , -0.7446123 , -0.7446123 ,\n",
       "       -0.7446123 , -0.7446123 , -0.7446123 , -0.7446123 , -0.7446123 ,\n",
       "       -0.71959599, -0.71959599, -0.71959599, -0.71959599, -0.71959599,\n",
       "       -0.71959599, -0.71959599, -0.71959599, -0.71959599, -0.71959599,\n",
       "       -0.71959599, -0.69457968, -0.69457968, -0.69457968, -0.69457968,\n",
       "       -0.69457968, -0.69457968, -0.69457968, -0.69457968, -0.69457968,\n",
       "       -0.69457968, -0.69457968, -0.66956337, -0.66956337, -0.66956337,\n",
       "       -0.66956337, -0.66956337, -0.66956337, -0.66956337, -0.66956337,\n",
       "       -0.66956337, -0.66956337, -0.66956337, -0.64454706])"
      ]
     },
     "execution_count": 1266,
     "metadata": {},
     "output_type": "execute_result"
    }
   ],
   "source": [
    "futureHC[1:100]"
   ]
  },
  {
   "cell_type": "code",
   "execution_count": 1267,
   "metadata": {},
   "outputs": [
    {
     "data": {
      "text/plain": [
       "array([ 1,  2,  3,  4,  5,  6,  7,  8,  9, 10,  0,  1,  2,  3,  4,  5,  6,\n",
       "        7,  8,  9, 10,  0,  1,  2,  3,  4,  5,  6,  7,  8,  9, 10,  0,  1,\n",
       "        2,  3,  4,  5,  6,  7,  8,  9, 10,  0,  1,  2,  3,  4,  5,  6,  7,\n",
       "        8,  9, 10,  0,  1,  2,  3,  4,  5,  6,  7,  8,  9, 10,  0,  1,  2,\n",
       "        3,  4,  5,  6,  7,  8,  9, 10,  0,  1,  2,  3,  4,  5,  6,  7,  8,\n",
       "        9, 10,  0,  1,  2,  3,  4,  5,  6,  7,  8,  9, 10,  0])"
      ]
     },
     "execution_count": 1267,
     "metadata": {},
     "output_type": "execute_result"
    }
   ],
   "source": [
    "futureG=np.tile(manageG, 100)\n",
    "futureG[1:100]"
   ]
  }
 ],
 "metadata": {
  "celltoolbar": "Raw Cell Format",
  "kernelspec": {
   "display_name": "Python 3",
   "language": "python",
   "name": "python3"
  },
  "language_info": {
   "codemirror_mode": {
    "name": "ipython",
    "version": 3
   },
   "file_extension": ".py",
   "mimetype": "text/x-python",
   "name": "python",
   "nbconvert_exporter": "python",
   "pygments_lexer": "ipython3",
   "version": "3.7.6"
  }
 },
 "nbformat": 4,
 "nbformat_minor": 5
}
